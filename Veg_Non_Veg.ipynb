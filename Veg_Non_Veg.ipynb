{
  "nbformat": 4,
  "nbformat_minor": 0,
  "metadata": {
    "colab": {
      "provenance": []
    },
    "kernelspec": {
      "name": "python3",
      "display_name": "Python 3"
    },
    "language_info": {
      "name": "python"
    }
  },
  "cells": [
    {
      "cell_type": "code",
      "execution_count": 1,
      "metadata": {
        "colab": {
          "base_uri": "https://localhost:8080/"
        },
        "id": "tjUp91G7Hgwn",
        "outputId": "86bb0506-717e-4486-8d4b-60e253410037"
      },
      "outputs": [
        {
          "output_type": "stream",
          "name": "stdout",
          "text": [
            "Mounted at /content/drive\n"
          ]
        }
      ],
      "source": [
        "from google.colab import drive\n",
        "drive.mount('/content/drive')"
      ]
    },
    {
      "cell_type": "code",
      "source": [
        "import pandas as pd\n",
        "\n",
        "# Specify the path to your Google Sheets file\n",
        "file_path = '/content/drive/MyDrive/Veg_Non_veg_Dataset.xlsx'  # Change this path to your file's location\n",
        "\n",
        "# Read the Google Sheets file into a DataFrame\n",
        "df = pd.read_excel(file_path)\n",
        "df= df.dropna()"
      ],
      "metadata": {
        "id": "k_o3k_k2HlNu"
      },
      "execution_count": 2,
      "outputs": []
    },
    {
      "cell_type": "code",
      "source": [
        "import pandas as pd\n",
        "\n",
        "# Assuming df is your DataFrame and 'Column_Name' is the column you want to modify\n",
        "column_to_modify = 'Type'\n",
        "df['Type'] = df['Type'].replace('\\n', 2)\n",
        "# Remove newline characters from the specified column\n",
        "# df['Type'] = df['Type'].replace('2 ', 2)\n",
        "\n",
        "# Print the modified DataFrame\n",
        "# print(df)\n"
      ],
      "metadata": {
        "id": "8xPYAD6tkKu6"
      },
      "execution_count": 3,
      "outputs": []
    },
    {
      "cell_type": "code",
      "source": [
        "df.head()"
      ],
      "metadata": {
        "colab": {
          "base_uri": "https://localhost:8080/",
          "height": 206
        },
        "id": "zoXGSF0KcwjC",
        "outputId": "8f1ab20a-8f92-495b-b686-ba874d0f6d0c"
      },
      "execution_count": 4,
      "outputs": [
        {
          "output_type": "execute_result",
          "data": {
            "text/plain": [
              "                                         ingredients  Type\n",
              "0  romaine lettuce, black olives, grape tomatoes,...     0\n",
              "1  plain flour, ground pepper, salt, tomatoes, gr...     1\n",
              "2  eggs, pepper, salt, mayonaise, cooking oil, gr...     2\n",
              "3                  water, vegetable oil, wheat, salt     0\n",
              "4  black pepper, shallots, cornflour, cayenne pep...     2"
            ],
            "text/html": [
              "\n",
              "  <div id=\"df-7e604f2b-8bdf-40ad-8769-6c14de1f8fec\" class=\"colab-df-container\">\n",
              "    <div>\n",
              "<style scoped>\n",
              "    .dataframe tbody tr th:only-of-type {\n",
              "        vertical-align: middle;\n",
              "    }\n",
              "\n",
              "    .dataframe tbody tr th {\n",
              "        vertical-align: top;\n",
              "    }\n",
              "\n",
              "    .dataframe thead th {\n",
              "        text-align: right;\n",
              "    }\n",
              "</style>\n",
              "<table border=\"1\" class=\"dataframe\">\n",
              "  <thead>\n",
              "    <tr style=\"text-align: right;\">\n",
              "      <th></th>\n",
              "      <th>ingredients</th>\n",
              "      <th>Type</th>\n",
              "    </tr>\n",
              "  </thead>\n",
              "  <tbody>\n",
              "    <tr>\n",
              "      <th>0</th>\n",
              "      <td>romaine lettuce, black olives, grape tomatoes,...</td>\n",
              "      <td>0</td>\n",
              "    </tr>\n",
              "    <tr>\n",
              "      <th>1</th>\n",
              "      <td>plain flour, ground pepper, salt, tomatoes, gr...</td>\n",
              "      <td>1</td>\n",
              "    </tr>\n",
              "    <tr>\n",
              "      <th>2</th>\n",
              "      <td>eggs, pepper, salt, mayonaise, cooking oil, gr...</td>\n",
              "      <td>2</td>\n",
              "    </tr>\n",
              "    <tr>\n",
              "      <th>3</th>\n",
              "      <td>water, vegetable oil, wheat, salt</td>\n",
              "      <td>0</td>\n",
              "    </tr>\n",
              "    <tr>\n",
              "      <th>4</th>\n",
              "      <td>black pepper, shallots, cornflour, cayenne pep...</td>\n",
              "      <td>2</td>\n",
              "    </tr>\n",
              "  </tbody>\n",
              "</table>\n",
              "</div>\n",
              "    <div class=\"colab-df-buttons\">\n",
              "\n",
              "  <div class=\"colab-df-container\">\n",
              "    <button class=\"colab-df-convert\" onclick=\"convertToInteractive('df-7e604f2b-8bdf-40ad-8769-6c14de1f8fec')\"\n",
              "            title=\"Convert this dataframe to an interactive table.\"\n",
              "            style=\"display:none;\">\n",
              "\n",
              "  <svg xmlns=\"http://www.w3.org/2000/svg\" height=\"24px\" viewBox=\"0 -960 960 960\">\n",
              "    <path d=\"M120-120v-720h720v720H120Zm60-500h600v-160H180v160Zm220 220h160v-160H400v160Zm0 220h160v-160H400v160ZM180-400h160v-160H180v160Zm440 0h160v-160H620v160ZM180-180h160v-160H180v160Zm440 0h160v-160H620v160Z\"/>\n",
              "  </svg>\n",
              "    </button>\n",
              "\n",
              "  <style>\n",
              "    .colab-df-container {\n",
              "      display:flex;\n",
              "      gap: 12px;\n",
              "    }\n",
              "\n",
              "    .colab-df-convert {\n",
              "      background-color: #E8F0FE;\n",
              "      border: none;\n",
              "      border-radius: 50%;\n",
              "      cursor: pointer;\n",
              "      display: none;\n",
              "      fill: #1967D2;\n",
              "      height: 32px;\n",
              "      padding: 0 0 0 0;\n",
              "      width: 32px;\n",
              "    }\n",
              "\n",
              "    .colab-df-convert:hover {\n",
              "      background-color: #E2EBFA;\n",
              "      box-shadow: 0px 1px 2px rgba(60, 64, 67, 0.3), 0px 1px 3px 1px rgba(60, 64, 67, 0.15);\n",
              "      fill: #174EA6;\n",
              "    }\n",
              "\n",
              "    .colab-df-buttons div {\n",
              "      margin-bottom: 4px;\n",
              "    }\n",
              "\n",
              "    [theme=dark] .colab-df-convert {\n",
              "      background-color: #3B4455;\n",
              "      fill: #D2E3FC;\n",
              "    }\n",
              "\n",
              "    [theme=dark] .colab-df-convert:hover {\n",
              "      background-color: #434B5C;\n",
              "      box-shadow: 0px 1px 3px 1px rgba(0, 0, 0, 0.15);\n",
              "      filter: drop-shadow(0px 1px 2px rgba(0, 0, 0, 0.3));\n",
              "      fill: #FFFFFF;\n",
              "    }\n",
              "  </style>\n",
              "\n",
              "    <script>\n",
              "      const buttonEl =\n",
              "        document.querySelector('#df-7e604f2b-8bdf-40ad-8769-6c14de1f8fec button.colab-df-convert');\n",
              "      buttonEl.style.display =\n",
              "        google.colab.kernel.accessAllowed ? 'block' : 'none';\n",
              "\n",
              "      async function convertToInteractive(key) {\n",
              "        const element = document.querySelector('#df-7e604f2b-8bdf-40ad-8769-6c14de1f8fec');\n",
              "        const dataTable =\n",
              "          await google.colab.kernel.invokeFunction('convertToInteractive',\n",
              "                                                    [key], {});\n",
              "        if (!dataTable) return;\n",
              "\n",
              "        const docLinkHtml = 'Like what you see? Visit the ' +\n",
              "          '<a target=\"_blank\" href=https://colab.research.google.com/notebooks/data_table.ipynb>data table notebook</a>'\n",
              "          + ' to learn more about interactive tables.';\n",
              "        element.innerHTML = '';\n",
              "        dataTable['output_type'] = 'display_data';\n",
              "        await google.colab.output.renderOutput(dataTable, element);\n",
              "        const docLink = document.createElement('div');\n",
              "        docLink.innerHTML = docLinkHtml;\n",
              "        element.appendChild(docLink);\n",
              "      }\n",
              "    </script>\n",
              "  </div>\n",
              "\n",
              "\n",
              "<div id=\"df-8d26d303-db5d-47a0-8ff7-48d34d570828\">\n",
              "  <button class=\"colab-df-quickchart\" onclick=\"quickchart('df-8d26d303-db5d-47a0-8ff7-48d34d570828')\"\n",
              "            title=\"Suggest charts\"\n",
              "            style=\"display:none;\">\n",
              "\n",
              "<svg xmlns=\"http://www.w3.org/2000/svg\" height=\"24px\"viewBox=\"0 0 24 24\"\n",
              "     width=\"24px\">\n",
              "    <g>\n",
              "        <path d=\"M19 3H5c-1.1 0-2 .9-2 2v14c0 1.1.9 2 2 2h14c1.1 0 2-.9 2-2V5c0-1.1-.9-2-2-2zM9 17H7v-7h2v7zm4 0h-2V7h2v10zm4 0h-2v-4h2v4z\"/>\n",
              "    </g>\n",
              "</svg>\n",
              "  </button>\n",
              "\n",
              "<style>\n",
              "  .colab-df-quickchart {\n",
              "      --bg-color: #E8F0FE;\n",
              "      --fill-color: #1967D2;\n",
              "      --hover-bg-color: #E2EBFA;\n",
              "      --hover-fill-color: #174EA6;\n",
              "      --disabled-fill-color: #AAA;\n",
              "      --disabled-bg-color: #DDD;\n",
              "  }\n",
              "\n",
              "  [theme=dark] .colab-df-quickchart {\n",
              "      --bg-color: #3B4455;\n",
              "      --fill-color: #D2E3FC;\n",
              "      --hover-bg-color: #434B5C;\n",
              "      --hover-fill-color: #FFFFFF;\n",
              "      --disabled-bg-color: #3B4455;\n",
              "      --disabled-fill-color: #666;\n",
              "  }\n",
              "\n",
              "  .colab-df-quickchart {\n",
              "    background-color: var(--bg-color);\n",
              "    border: none;\n",
              "    border-radius: 50%;\n",
              "    cursor: pointer;\n",
              "    display: none;\n",
              "    fill: var(--fill-color);\n",
              "    height: 32px;\n",
              "    padding: 0;\n",
              "    width: 32px;\n",
              "  }\n",
              "\n",
              "  .colab-df-quickchart:hover {\n",
              "    background-color: var(--hover-bg-color);\n",
              "    box-shadow: 0 1px 2px rgba(60, 64, 67, 0.3), 0 1px 3px 1px rgba(60, 64, 67, 0.15);\n",
              "    fill: var(--button-hover-fill-color);\n",
              "  }\n",
              "\n",
              "  .colab-df-quickchart-complete:disabled,\n",
              "  .colab-df-quickchart-complete:disabled:hover {\n",
              "    background-color: var(--disabled-bg-color);\n",
              "    fill: var(--disabled-fill-color);\n",
              "    box-shadow: none;\n",
              "  }\n",
              "\n",
              "  .colab-df-spinner {\n",
              "    border: 2px solid var(--fill-color);\n",
              "    border-color: transparent;\n",
              "    border-bottom-color: var(--fill-color);\n",
              "    animation:\n",
              "      spin 1s steps(1) infinite;\n",
              "  }\n",
              "\n",
              "  @keyframes spin {\n",
              "    0% {\n",
              "      border-color: transparent;\n",
              "      border-bottom-color: var(--fill-color);\n",
              "      border-left-color: var(--fill-color);\n",
              "    }\n",
              "    20% {\n",
              "      border-color: transparent;\n",
              "      border-left-color: var(--fill-color);\n",
              "      border-top-color: var(--fill-color);\n",
              "    }\n",
              "    30% {\n",
              "      border-color: transparent;\n",
              "      border-left-color: var(--fill-color);\n",
              "      border-top-color: var(--fill-color);\n",
              "      border-right-color: var(--fill-color);\n",
              "    }\n",
              "    40% {\n",
              "      border-color: transparent;\n",
              "      border-right-color: var(--fill-color);\n",
              "      border-top-color: var(--fill-color);\n",
              "    }\n",
              "    60% {\n",
              "      border-color: transparent;\n",
              "      border-right-color: var(--fill-color);\n",
              "    }\n",
              "    80% {\n",
              "      border-color: transparent;\n",
              "      border-right-color: var(--fill-color);\n",
              "      border-bottom-color: var(--fill-color);\n",
              "    }\n",
              "    90% {\n",
              "      border-color: transparent;\n",
              "      border-bottom-color: var(--fill-color);\n",
              "    }\n",
              "  }\n",
              "</style>\n",
              "\n",
              "  <script>\n",
              "    async function quickchart(key) {\n",
              "      const quickchartButtonEl =\n",
              "        document.querySelector('#' + key + ' button');\n",
              "      quickchartButtonEl.disabled = true;  // To prevent multiple clicks.\n",
              "      quickchartButtonEl.classList.add('colab-df-spinner');\n",
              "      try {\n",
              "        const charts = await google.colab.kernel.invokeFunction(\n",
              "            'suggestCharts', [key], {});\n",
              "      } catch (error) {\n",
              "        console.error('Error during call to suggestCharts:', error);\n",
              "      }\n",
              "      quickchartButtonEl.classList.remove('colab-df-spinner');\n",
              "      quickchartButtonEl.classList.add('colab-df-quickchart-complete');\n",
              "    }\n",
              "    (() => {\n",
              "      let quickchartButtonEl =\n",
              "        document.querySelector('#df-8d26d303-db5d-47a0-8ff7-48d34d570828 button');\n",
              "      quickchartButtonEl.style.display =\n",
              "        google.colab.kernel.accessAllowed ? 'block' : 'none';\n",
              "    })();\n",
              "  </script>\n",
              "</div>\n",
              "\n",
              "    </div>\n",
              "  </div>\n"
            ]
          },
          "metadata": {},
          "execution_count": 4
        }
      ]
    },
    {
      "cell_type": "code",
      "source": [
        "import pandas as pd\n",
        "\n",
        "# Perform one-hot encoding\n",
        "df = pd.get_dummies(df, columns=['Type'])\n"
      ],
      "metadata": {
        "id": "40ZWn6nYan88"
      },
      "execution_count": 5,
      "outputs": []
    },
    {
      "cell_type": "code",
      "source": [
        "df.head(40)"
      ],
      "metadata": {
        "colab": {
          "base_uri": "https://localhost:8080/",
          "height": 1000
        },
        "id": "ICBZsL7LIKEr",
        "outputId": "b38664b7-3ddf-4d94-a037-b10ecb579562"
      },
      "execution_count": 6,
      "outputs": [
        {
          "output_type": "execute_result",
          "data": {
            "text/plain": [
              "                                          ingredients  Type_0  Type_1  Type_2\n",
              "0   romaine lettuce, black olives, grape tomatoes,...       1       0       0\n",
              "1   plain flour, ground pepper, salt, tomatoes, gr...       0       1       0\n",
              "2   eggs, pepper, salt, mayonaise, cooking oil, gr...       0       0       1\n",
              "3                   water, vegetable oil, wheat, salt       1       0       0\n",
              "4   black pepper, shallots, cornflour, cayenne pep...       0       0       1\n",
              "5   plain flour, sugar, butter, eggs, fresh ginger...       0       1       0\n",
              "6   olive oil, salt, medium shrimp, pepper, garlic...       0       0       1\n",
              "7   sugar, pistachio nuts, white almond bark, flou...       0       1       0\n",
              "8   olive oil, purple onion, fresh pineapple, pork...       0       0       1\n",
              "9   chopped tomatoes, fresh basil, garlic, extra-v...       1       0       0\n",
              "10  pimentos, sweet pepper, dried oregano, olive o...       0       0       1\n",
              "11  low sodium soy sauce, fresh ginger, dry mustar...       1       0       0\n",
              "12  Italian parsley leaves, walnuts, hot red peppe...       1       0       0\n",
              "13  ground cinnamon, fresh cilantro, chili powder,...       1       0       0\n",
              "14  fresh parmesan cheese, butter, all-purpose flo...       0       0       1\n",
              "15  tumeric, vegetable stock, tomatoes, garam masa...       1       0       0\n",
              "16  greek yogurt, lemon curd, confectioners sugar,...       1       0       0\n",
              "17  italian seasoning, broiler-fryer chicken, mayo...       0       0       1\n",
              "18     sugar, hot chili, asian fish sauce, lime juice       0       0       1\n",
              "19  soy sauce, vegetable oil, red bell pepper, chi...       0       0       1\n",
              "20  pork loin, roasted peanuts, chopped cilantro f...       0       0       1\n",
              "21  roma tomatoes, kosher salt, purple onion, jala...       1       0       0\n",
              "22  low-fat mayonnaise, pepper, salt, baking potat...       0       1       0\n",
              "23  sesame seeds, red pepper, yellow peppers, wate...       1       0       0\n",
              "24  marinara sauce, flat leaf parsley, olive oil, ...       1       0       0\n",
              "25  sugar, lo mein noodles, salt, chicken broth, l...       0       0       1\n",
              "26  herbs, lemon juice, fresh tomatoes, paprika, m...       1       0       0\n",
              "27  ground black pepper, butter, sliced mushrooms,...       0       0       1\n",
              "28  green bell pepper, egg roll wrappers, sweet an...       0       0       1\n",
              "29  flour tortillas, cheese, breakfast sausages, l...       0       0       1\n",
              "30  yellow corn meal, boiling water, butter, fresh...       1       0       0\n",
              "31  chicken broth, chicken breasts, hot sauce, red...       0       0       1\n",
              "32  chili powder, crushed red pepper flakes, garli...       0       1       0\n",
              "33  eggs, shallots, firm tofu, beansprouts, turnip...       0       0       1\n",
              "34  olive oil, onions, crushed garlic, dried orega...       1       0       0\n",
              "35  olive oil, diced tomatoes, Johnsonville Andoui...       0       0       1\n",
              "36  olive oil, bread slices, great northern beans,...       0       0       1\n",
              "37  chicken broth, cooking oil, chinese five-spice...       0       0       1\n",
              "38  green onions, cream cheese, shredded cheddar c...       1       0       0\n",
              "39  collard greens, extra-virgin olive oil, ham ho...       0       0       1"
            ],
            "text/html": [
              "\n",
              "  <div id=\"df-bcecbec5-2795-4d2b-95aa-4a867d1e1010\" class=\"colab-df-container\">\n",
              "    <div>\n",
              "<style scoped>\n",
              "    .dataframe tbody tr th:only-of-type {\n",
              "        vertical-align: middle;\n",
              "    }\n",
              "\n",
              "    .dataframe tbody tr th {\n",
              "        vertical-align: top;\n",
              "    }\n",
              "\n",
              "    .dataframe thead th {\n",
              "        text-align: right;\n",
              "    }\n",
              "</style>\n",
              "<table border=\"1\" class=\"dataframe\">\n",
              "  <thead>\n",
              "    <tr style=\"text-align: right;\">\n",
              "      <th></th>\n",
              "      <th>ingredients</th>\n",
              "      <th>Type_0</th>\n",
              "      <th>Type_1</th>\n",
              "      <th>Type_2</th>\n",
              "    </tr>\n",
              "  </thead>\n",
              "  <tbody>\n",
              "    <tr>\n",
              "      <th>0</th>\n",
              "      <td>romaine lettuce, black olives, grape tomatoes,...</td>\n",
              "      <td>1</td>\n",
              "      <td>0</td>\n",
              "      <td>0</td>\n",
              "    </tr>\n",
              "    <tr>\n",
              "      <th>1</th>\n",
              "      <td>plain flour, ground pepper, salt, tomatoes, gr...</td>\n",
              "      <td>0</td>\n",
              "      <td>1</td>\n",
              "      <td>0</td>\n",
              "    </tr>\n",
              "    <tr>\n",
              "      <th>2</th>\n",
              "      <td>eggs, pepper, salt, mayonaise, cooking oil, gr...</td>\n",
              "      <td>0</td>\n",
              "      <td>0</td>\n",
              "      <td>1</td>\n",
              "    </tr>\n",
              "    <tr>\n",
              "      <th>3</th>\n",
              "      <td>water, vegetable oil, wheat, salt</td>\n",
              "      <td>1</td>\n",
              "      <td>0</td>\n",
              "      <td>0</td>\n",
              "    </tr>\n",
              "    <tr>\n",
              "      <th>4</th>\n",
              "      <td>black pepper, shallots, cornflour, cayenne pep...</td>\n",
              "      <td>0</td>\n",
              "      <td>0</td>\n",
              "      <td>1</td>\n",
              "    </tr>\n",
              "    <tr>\n",
              "      <th>5</th>\n",
              "      <td>plain flour, sugar, butter, eggs, fresh ginger...</td>\n",
              "      <td>0</td>\n",
              "      <td>1</td>\n",
              "      <td>0</td>\n",
              "    </tr>\n",
              "    <tr>\n",
              "      <th>6</th>\n",
              "      <td>olive oil, salt, medium shrimp, pepper, garlic...</td>\n",
              "      <td>0</td>\n",
              "      <td>0</td>\n",
              "      <td>1</td>\n",
              "    </tr>\n",
              "    <tr>\n",
              "      <th>7</th>\n",
              "      <td>sugar, pistachio nuts, white almond bark, flou...</td>\n",
              "      <td>0</td>\n",
              "      <td>1</td>\n",
              "      <td>0</td>\n",
              "    </tr>\n",
              "    <tr>\n",
              "      <th>8</th>\n",
              "      <td>olive oil, purple onion, fresh pineapple, pork...</td>\n",
              "      <td>0</td>\n",
              "      <td>0</td>\n",
              "      <td>1</td>\n",
              "    </tr>\n",
              "    <tr>\n",
              "      <th>9</th>\n",
              "      <td>chopped tomatoes, fresh basil, garlic, extra-v...</td>\n",
              "      <td>1</td>\n",
              "      <td>0</td>\n",
              "      <td>0</td>\n",
              "    </tr>\n",
              "    <tr>\n",
              "      <th>10</th>\n",
              "      <td>pimentos, sweet pepper, dried oregano, olive o...</td>\n",
              "      <td>0</td>\n",
              "      <td>0</td>\n",
              "      <td>1</td>\n",
              "    </tr>\n",
              "    <tr>\n",
              "      <th>11</th>\n",
              "      <td>low sodium soy sauce, fresh ginger, dry mustar...</td>\n",
              "      <td>1</td>\n",
              "      <td>0</td>\n",
              "      <td>0</td>\n",
              "    </tr>\n",
              "    <tr>\n",
              "      <th>12</th>\n",
              "      <td>Italian parsley leaves, walnuts, hot red peppe...</td>\n",
              "      <td>1</td>\n",
              "      <td>0</td>\n",
              "      <td>0</td>\n",
              "    </tr>\n",
              "    <tr>\n",
              "      <th>13</th>\n",
              "      <td>ground cinnamon, fresh cilantro, chili powder,...</td>\n",
              "      <td>1</td>\n",
              "      <td>0</td>\n",
              "      <td>0</td>\n",
              "    </tr>\n",
              "    <tr>\n",
              "      <th>14</th>\n",
              "      <td>fresh parmesan cheese, butter, all-purpose flo...</td>\n",
              "      <td>0</td>\n",
              "      <td>0</td>\n",
              "      <td>1</td>\n",
              "    </tr>\n",
              "    <tr>\n",
              "      <th>15</th>\n",
              "      <td>tumeric, vegetable stock, tomatoes, garam masa...</td>\n",
              "      <td>1</td>\n",
              "      <td>0</td>\n",
              "      <td>0</td>\n",
              "    </tr>\n",
              "    <tr>\n",
              "      <th>16</th>\n",
              "      <td>greek yogurt, lemon curd, confectioners sugar,...</td>\n",
              "      <td>1</td>\n",
              "      <td>0</td>\n",
              "      <td>0</td>\n",
              "    </tr>\n",
              "    <tr>\n",
              "      <th>17</th>\n",
              "      <td>italian seasoning, broiler-fryer chicken, mayo...</td>\n",
              "      <td>0</td>\n",
              "      <td>0</td>\n",
              "      <td>1</td>\n",
              "    </tr>\n",
              "    <tr>\n",
              "      <th>18</th>\n",
              "      <td>sugar, hot chili, asian fish sauce, lime juice</td>\n",
              "      <td>0</td>\n",
              "      <td>0</td>\n",
              "      <td>1</td>\n",
              "    </tr>\n",
              "    <tr>\n",
              "      <th>19</th>\n",
              "      <td>soy sauce, vegetable oil, red bell pepper, chi...</td>\n",
              "      <td>0</td>\n",
              "      <td>0</td>\n",
              "      <td>1</td>\n",
              "    </tr>\n",
              "    <tr>\n",
              "      <th>20</th>\n",
              "      <td>pork loin, roasted peanuts, chopped cilantro f...</td>\n",
              "      <td>0</td>\n",
              "      <td>0</td>\n",
              "      <td>1</td>\n",
              "    </tr>\n",
              "    <tr>\n",
              "      <th>21</th>\n",
              "      <td>roma tomatoes, kosher salt, purple onion, jala...</td>\n",
              "      <td>1</td>\n",
              "      <td>0</td>\n",
              "      <td>0</td>\n",
              "    </tr>\n",
              "    <tr>\n",
              "      <th>22</th>\n",
              "      <td>low-fat mayonnaise, pepper, salt, baking potat...</td>\n",
              "      <td>0</td>\n",
              "      <td>1</td>\n",
              "      <td>0</td>\n",
              "    </tr>\n",
              "    <tr>\n",
              "      <th>23</th>\n",
              "      <td>sesame seeds, red pepper, yellow peppers, wate...</td>\n",
              "      <td>1</td>\n",
              "      <td>0</td>\n",
              "      <td>0</td>\n",
              "    </tr>\n",
              "    <tr>\n",
              "      <th>24</th>\n",
              "      <td>marinara sauce, flat leaf parsley, olive oil, ...</td>\n",
              "      <td>1</td>\n",
              "      <td>0</td>\n",
              "      <td>0</td>\n",
              "    </tr>\n",
              "    <tr>\n",
              "      <th>25</th>\n",
              "      <td>sugar, lo mein noodles, salt, chicken broth, l...</td>\n",
              "      <td>0</td>\n",
              "      <td>0</td>\n",
              "      <td>1</td>\n",
              "    </tr>\n",
              "    <tr>\n",
              "      <th>26</th>\n",
              "      <td>herbs, lemon juice, fresh tomatoes, paprika, m...</td>\n",
              "      <td>1</td>\n",
              "      <td>0</td>\n",
              "      <td>0</td>\n",
              "    </tr>\n",
              "    <tr>\n",
              "      <th>27</th>\n",
              "      <td>ground black pepper, butter, sliced mushrooms,...</td>\n",
              "      <td>0</td>\n",
              "      <td>0</td>\n",
              "      <td>1</td>\n",
              "    </tr>\n",
              "    <tr>\n",
              "      <th>28</th>\n",
              "      <td>green bell pepper, egg roll wrappers, sweet an...</td>\n",
              "      <td>0</td>\n",
              "      <td>0</td>\n",
              "      <td>1</td>\n",
              "    </tr>\n",
              "    <tr>\n",
              "      <th>29</th>\n",
              "      <td>flour tortillas, cheese, breakfast sausages, l...</td>\n",
              "      <td>0</td>\n",
              "      <td>0</td>\n",
              "      <td>1</td>\n",
              "    </tr>\n",
              "    <tr>\n",
              "      <th>30</th>\n",
              "      <td>yellow corn meal, boiling water, butter, fresh...</td>\n",
              "      <td>1</td>\n",
              "      <td>0</td>\n",
              "      <td>0</td>\n",
              "    </tr>\n",
              "    <tr>\n",
              "      <th>31</th>\n",
              "      <td>chicken broth, chicken breasts, hot sauce, red...</td>\n",
              "      <td>0</td>\n",
              "      <td>0</td>\n",
              "      <td>1</td>\n",
              "    </tr>\n",
              "    <tr>\n",
              "      <th>32</th>\n",
              "      <td>chili powder, crushed red pepper flakes, garli...</td>\n",
              "      <td>0</td>\n",
              "      <td>1</td>\n",
              "      <td>0</td>\n",
              "    </tr>\n",
              "    <tr>\n",
              "      <th>33</th>\n",
              "      <td>eggs, shallots, firm tofu, beansprouts, turnip...</td>\n",
              "      <td>0</td>\n",
              "      <td>0</td>\n",
              "      <td>1</td>\n",
              "    </tr>\n",
              "    <tr>\n",
              "      <th>34</th>\n",
              "      <td>olive oil, onions, crushed garlic, dried orega...</td>\n",
              "      <td>1</td>\n",
              "      <td>0</td>\n",
              "      <td>0</td>\n",
              "    </tr>\n",
              "    <tr>\n",
              "      <th>35</th>\n",
              "      <td>olive oil, diced tomatoes, Johnsonville Andoui...</td>\n",
              "      <td>0</td>\n",
              "      <td>0</td>\n",
              "      <td>1</td>\n",
              "    </tr>\n",
              "    <tr>\n",
              "      <th>36</th>\n",
              "      <td>olive oil, bread slices, great northern beans,...</td>\n",
              "      <td>0</td>\n",
              "      <td>0</td>\n",
              "      <td>1</td>\n",
              "    </tr>\n",
              "    <tr>\n",
              "      <th>37</th>\n",
              "      <td>chicken broth, cooking oil, chinese five-spice...</td>\n",
              "      <td>0</td>\n",
              "      <td>0</td>\n",
              "      <td>1</td>\n",
              "    </tr>\n",
              "    <tr>\n",
              "      <th>38</th>\n",
              "      <td>green onions, cream cheese, shredded cheddar c...</td>\n",
              "      <td>1</td>\n",
              "      <td>0</td>\n",
              "      <td>0</td>\n",
              "    </tr>\n",
              "    <tr>\n",
              "      <th>39</th>\n",
              "      <td>collard greens, extra-virgin olive oil, ham ho...</td>\n",
              "      <td>0</td>\n",
              "      <td>0</td>\n",
              "      <td>1</td>\n",
              "    </tr>\n",
              "  </tbody>\n",
              "</table>\n",
              "</div>\n",
              "    <div class=\"colab-df-buttons\">\n",
              "\n",
              "  <div class=\"colab-df-container\">\n",
              "    <button class=\"colab-df-convert\" onclick=\"convertToInteractive('df-bcecbec5-2795-4d2b-95aa-4a867d1e1010')\"\n",
              "            title=\"Convert this dataframe to an interactive table.\"\n",
              "            style=\"display:none;\">\n",
              "\n",
              "  <svg xmlns=\"http://www.w3.org/2000/svg\" height=\"24px\" viewBox=\"0 -960 960 960\">\n",
              "    <path d=\"M120-120v-720h720v720H120Zm60-500h600v-160H180v160Zm220 220h160v-160H400v160Zm0 220h160v-160H400v160ZM180-400h160v-160H180v160Zm440 0h160v-160H620v160ZM180-180h160v-160H180v160Zm440 0h160v-160H620v160Z\"/>\n",
              "  </svg>\n",
              "    </button>\n",
              "\n",
              "  <style>\n",
              "    .colab-df-container {\n",
              "      display:flex;\n",
              "      gap: 12px;\n",
              "    }\n",
              "\n",
              "    .colab-df-convert {\n",
              "      background-color: #E8F0FE;\n",
              "      border: none;\n",
              "      border-radius: 50%;\n",
              "      cursor: pointer;\n",
              "      display: none;\n",
              "      fill: #1967D2;\n",
              "      height: 32px;\n",
              "      padding: 0 0 0 0;\n",
              "      width: 32px;\n",
              "    }\n",
              "\n",
              "    .colab-df-convert:hover {\n",
              "      background-color: #E2EBFA;\n",
              "      box-shadow: 0px 1px 2px rgba(60, 64, 67, 0.3), 0px 1px 3px 1px rgba(60, 64, 67, 0.15);\n",
              "      fill: #174EA6;\n",
              "    }\n",
              "\n",
              "    .colab-df-buttons div {\n",
              "      margin-bottom: 4px;\n",
              "    }\n",
              "\n",
              "    [theme=dark] .colab-df-convert {\n",
              "      background-color: #3B4455;\n",
              "      fill: #D2E3FC;\n",
              "    }\n",
              "\n",
              "    [theme=dark] .colab-df-convert:hover {\n",
              "      background-color: #434B5C;\n",
              "      box-shadow: 0px 1px 3px 1px rgba(0, 0, 0, 0.15);\n",
              "      filter: drop-shadow(0px 1px 2px rgba(0, 0, 0, 0.3));\n",
              "      fill: #FFFFFF;\n",
              "    }\n",
              "  </style>\n",
              "\n",
              "    <script>\n",
              "      const buttonEl =\n",
              "        document.querySelector('#df-bcecbec5-2795-4d2b-95aa-4a867d1e1010 button.colab-df-convert');\n",
              "      buttonEl.style.display =\n",
              "        google.colab.kernel.accessAllowed ? 'block' : 'none';\n",
              "\n",
              "      async function convertToInteractive(key) {\n",
              "        const element = document.querySelector('#df-bcecbec5-2795-4d2b-95aa-4a867d1e1010');\n",
              "        const dataTable =\n",
              "          await google.colab.kernel.invokeFunction('convertToInteractive',\n",
              "                                                    [key], {});\n",
              "        if (!dataTable) return;\n",
              "\n",
              "        const docLinkHtml = 'Like what you see? Visit the ' +\n",
              "          '<a target=\"_blank\" href=https://colab.research.google.com/notebooks/data_table.ipynb>data table notebook</a>'\n",
              "          + ' to learn more about interactive tables.';\n",
              "        element.innerHTML = '';\n",
              "        dataTable['output_type'] = 'display_data';\n",
              "        await google.colab.output.renderOutput(dataTable, element);\n",
              "        const docLink = document.createElement('div');\n",
              "        docLink.innerHTML = docLinkHtml;\n",
              "        element.appendChild(docLink);\n",
              "      }\n",
              "    </script>\n",
              "  </div>\n",
              "\n",
              "\n",
              "<div id=\"df-61539bac-1189-4cfd-b645-2ffa2c17450b\">\n",
              "  <button class=\"colab-df-quickchart\" onclick=\"quickchart('df-61539bac-1189-4cfd-b645-2ffa2c17450b')\"\n",
              "            title=\"Suggest charts\"\n",
              "            style=\"display:none;\">\n",
              "\n",
              "<svg xmlns=\"http://www.w3.org/2000/svg\" height=\"24px\"viewBox=\"0 0 24 24\"\n",
              "     width=\"24px\">\n",
              "    <g>\n",
              "        <path d=\"M19 3H5c-1.1 0-2 .9-2 2v14c0 1.1.9 2 2 2h14c1.1 0 2-.9 2-2V5c0-1.1-.9-2-2-2zM9 17H7v-7h2v7zm4 0h-2V7h2v10zm4 0h-2v-4h2v4z\"/>\n",
              "    </g>\n",
              "</svg>\n",
              "  </button>\n",
              "\n",
              "<style>\n",
              "  .colab-df-quickchart {\n",
              "      --bg-color: #E8F0FE;\n",
              "      --fill-color: #1967D2;\n",
              "      --hover-bg-color: #E2EBFA;\n",
              "      --hover-fill-color: #174EA6;\n",
              "      --disabled-fill-color: #AAA;\n",
              "      --disabled-bg-color: #DDD;\n",
              "  }\n",
              "\n",
              "  [theme=dark] .colab-df-quickchart {\n",
              "      --bg-color: #3B4455;\n",
              "      --fill-color: #D2E3FC;\n",
              "      --hover-bg-color: #434B5C;\n",
              "      --hover-fill-color: #FFFFFF;\n",
              "      --disabled-bg-color: #3B4455;\n",
              "      --disabled-fill-color: #666;\n",
              "  }\n",
              "\n",
              "  .colab-df-quickchart {\n",
              "    background-color: var(--bg-color);\n",
              "    border: none;\n",
              "    border-radius: 50%;\n",
              "    cursor: pointer;\n",
              "    display: none;\n",
              "    fill: var(--fill-color);\n",
              "    height: 32px;\n",
              "    padding: 0;\n",
              "    width: 32px;\n",
              "  }\n",
              "\n",
              "  .colab-df-quickchart:hover {\n",
              "    background-color: var(--hover-bg-color);\n",
              "    box-shadow: 0 1px 2px rgba(60, 64, 67, 0.3), 0 1px 3px 1px rgba(60, 64, 67, 0.15);\n",
              "    fill: var(--button-hover-fill-color);\n",
              "  }\n",
              "\n",
              "  .colab-df-quickchart-complete:disabled,\n",
              "  .colab-df-quickchart-complete:disabled:hover {\n",
              "    background-color: var(--disabled-bg-color);\n",
              "    fill: var(--disabled-fill-color);\n",
              "    box-shadow: none;\n",
              "  }\n",
              "\n",
              "  .colab-df-spinner {\n",
              "    border: 2px solid var(--fill-color);\n",
              "    border-color: transparent;\n",
              "    border-bottom-color: var(--fill-color);\n",
              "    animation:\n",
              "      spin 1s steps(1) infinite;\n",
              "  }\n",
              "\n",
              "  @keyframes spin {\n",
              "    0% {\n",
              "      border-color: transparent;\n",
              "      border-bottom-color: var(--fill-color);\n",
              "      border-left-color: var(--fill-color);\n",
              "    }\n",
              "    20% {\n",
              "      border-color: transparent;\n",
              "      border-left-color: var(--fill-color);\n",
              "      border-top-color: var(--fill-color);\n",
              "    }\n",
              "    30% {\n",
              "      border-color: transparent;\n",
              "      border-left-color: var(--fill-color);\n",
              "      border-top-color: var(--fill-color);\n",
              "      border-right-color: var(--fill-color);\n",
              "    }\n",
              "    40% {\n",
              "      border-color: transparent;\n",
              "      border-right-color: var(--fill-color);\n",
              "      border-top-color: var(--fill-color);\n",
              "    }\n",
              "    60% {\n",
              "      border-color: transparent;\n",
              "      border-right-color: var(--fill-color);\n",
              "    }\n",
              "    80% {\n",
              "      border-color: transparent;\n",
              "      border-right-color: var(--fill-color);\n",
              "      border-bottom-color: var(--fill-color);\n",
              "    }\n",
              "    90% {\n",
              "      border-color: transparent;\n",
              "      border-bottom-color: var(--fill-color);\n",
              "    }\n",
              "  }\n",
              "</style>\n",
              "\n",
              "  <script>\n",
              "    async function quickchart(key) {\n",
              "      const quickchartButtonEl =\n",
              "        document.querySelector('#' + key + ' button');\n",
              "      quickchartButtonEl.disabled = true;  // To prevent multiple clicks.\n",
              "      quickchartButtonEl.classList.add('colab-df-spinner');\n",
              "      try {\n",
              "        const charts = await google.colab.kernel.invokeFunction(\n",
              "            'suggestCharts', [key], {});\n",
              "      } catch (error) {\n",
              "        console.error('Error during call to suggestCharts:', error);\n",
              "      }\n",
              "      quickchartButtonEl.classList.remove('colab-df-spinner');\n",
              "      quickchartButtonEl.classList.add('colab-df-quickchart-complete');\n",
              "    }\n",
              "    (() => {\n",
              "      let quickchartButtonEl =\n",
              "        document.querySelector('#df-61539bac-1189-4cfd-b645-2ffa2c17450b button');\n",
              "      quickchartButtonEl.style.display =\n",
              "        google.colab.kernel.accessAllowed ? 'block' : 'none';\n",
              "    })();\n",
              "  </script>\n",
              "</div>\n",
              "\n",
              "    </div>\n",
              "  </div>\n"
            ]
          },
          "metadata": {},
          "execution_count": 6
        }
      ]
    },
    {
      "cell_type": "code",
      "source": [
        "df[\"ingredients\"][10]"
      ],
      "metadata": {
        "colab": {
          "base_uri": "https://localhost:8080/",
          "height": 53
        },
        "id": "SkHaeviiIkcp",
        "outputId": "f1785218-d75a-49cd-e7bb-6d0f11889f06"
      },
      "execution_count": 7,
      "outputs": [
        {
          "output_type": "execute_result",
          "data": {
            "text/plain": [
              "'pimentos, sweet pepper, dried oregano, olive oil, garlic, sharp cheddar cheese, pepper, swiss cheese, provolone cheese, canola oil, mushrooms, black olives, sausages'"
            ],
            "application/vnd.google.colaboratory.intrinsic+json": {
              "type": "string"
            }
          },
          "metadata": {},
          "execution_count": 7
        }
      ]
    },
    {
      "cell_type": "code",
      "source": [
        "df = df.sample(frac=1,random_state=42)\n",
        "df.head()"
      ],
      "metadata": {
        "colab": {
          "base_uri": "https://localhost:8080/",
          "height": 206
        },
        "id": "iMbK7hT9Ozp2",
        "outputId": "b4131c08-5770-44e5-8cca-20338d84ccc4"
      },
      "execution_count": 8,
      "outputs": [
        {
          "output_type": "execute_result",
          "data": {
            "text/plain": [
              "                                            ingredients  Type_0  Type_1  \\\n",
              "4117  ALMOND MILK (WATER, ALMONDS, CUCUMBERS, RICE S...       1       0   \n",
              "7681  GARBANZO BEANS, SESAME SEEDS, BLENDED OLIVE/CA...       1       0   \n",
              "2191  INGREDIENTS: CHICKEN BREAST WITH RIB MEAT, WAT...       0       0   \n",
              "3357                              ORGANIC TOMATO PASTE.       1       0   \n",
              "6099  ORGANIC POTATOES, ORGANIC SAFFLOWER AND/OR SUN...       1       0   \n",
              "\n",
              "      Type_2  \n",
              "4117       0  \n",
              "7681       0  \n",
              "2191       1  \n",
              "3357       0  \n",
              "6099       0  "
            ],
            "text/html": [
              "\n",
              "  <div id=\"df-2a4b236c-8d0c-4187-8218-8959a96c77b7\" class=\"colab-df-container\">\n",
              "    <div>\n",
              "<style scoped>\n",
              "    .dataframe tbody tr th:only-of-type {\n",
              "        vertical-align: middle;\n",
              "    }\n",
              "\n",
              "    .dataframe tbody tr th {\n",
              "        vertical-align: top;\n",
              "    }\n",
              "\n",
              "    .dataframe thead th {\n",
              "        text-align: right;\n",
              "    }\n",
              "</style>\n",
              "<table border=\"1\" class=\"dataframe\">\n",
              "  <thead>\n",
              "    <tr style=\"text-align: right;\">\n",
              "      <th></th>\n",
              "      <th>ingredients</th>\n",
              "      <th>Type_0</th>\n",
              "      <th>Type_1</th>\n",
              "      <th>Type_2</th>\n",
              "    </tr>\n",
              "  </thead>\n",
              "  <tbody>\n",
              "    <tr>\n",
              "      <th>4117</th>\n",
              "      <td>ALMOND MILK (WATER, ALMONDS, CUCUMBERS, RICE S...</td>\n",
              "      <td>1</td>\n",
              "      <td>0</td>\n",
              "      <td>0</td>\n",
              "    </tr>\n",
              "    <tr>\n",
              "      <th>7681</th>\n",
              "      <td>GARBANZO BEANS, SESAME SEEDS, BLENDED OLIVE/CA...</td>\n",
              "      <td>1</td>\n",
              "      <td>0</td>\n",
              "      <td>0</td>\n",
              "    </tr>\n",
              "    <tr>\n",
              "      <th>2191</th>\n",
              "      <td>INGREDIENTS: CHICKEN BREAST WITH RIB MEAT, WAT...</td>\n",
              "      <td>0</td>\n",
              "      <td>0</td>\n",
              "      <td>1</td>\n",
              "    </tr>\n",
              "    <tr>\n",
              "      <th>3357</th>\n",
              "      <td>ORGANIC TOMATO PASTE.</td>\n",
              "      <td>1</td>\n",
              "      <td>0</td>\n",
              "      <td>0</td>\n",
              "    </tr>\n",
              "    <tr>\n",
              "      <th>6099</th>\n",
              "      <td>ORGANIC POTATOES, ORGANIC SAFFLOWER AND/OR SUN...</td>\n",
              "      <td>1</td>\n",
              "      <td>0</td>\n",
              "      <td>0</td>\n",
              "    </tr>\n",
              "  </tbody>\n",
              "</table>\n",
              "</div>\n",
              "    <div class=\"colab-df-buttons\">\n",
              "\n",
              "  <div class=\"colab-df-container\">\n",
              "    <button class=\"colab-df-convert\" onclick=\"convertToInteractive('df-2a4b236c-8d0c-4187-8218-8959a96c77b7')\"\n",
              "            title=\"Convert this dataframe to an interactive table.\"\n",
              "            style=\"display:none;\">\n",
              "\n",
              "  <svg xmlns=\"http://www.w3.org/2000/svg\" height=\"24px\" viewBox=\"0 -960 960 960\">\n",
              "    <path d=\"M120-120v-720h720v720H120Zm60-500h600v-160H180v160Zm220 220h160v-160H400v160Zm0 220h160v-160H400v160ZM180-400h160v-160H180v160Zm440 0h160v-160H620v160ZM180-180h160v-160H180v160Zm440 0h160v-160H620v160Z\"/>\n",
              "  </svg>\n",
              "    </button>\n",
              "\n",
              "  <style>\n",
              "    .colab-df-container {\n",
              "      display:flex;\n",
              "      gap: 12px;\n",
              "    }\n",
              "\n",
              "    .colab-df-convert {\n",
              "      background-color: #E8F0FE;\n",
              "      border: none;\n",
              "      border-radius: 50%;\n",
              "      cursor: pointer;\n",
              "      display: none;\n",
              "      fill: #1967D2;\n",
              "      height: 32px;\n",
              "      padding: 0 0 0 0;\n",
              "      width: 32px;\n",
              "    }\n",
              "\n",
              "    .colab-df-convert:hover {\n",
              "      background-color: #E2EBFA;\n",
              "      box-shadow: 0px 1px 2px rgba(60, 64, 67, 0.3), 0px 1px 3px 1px rgba(60, 64, 67, 0.15);\n",
              "      fill: #174EA6;\n",
              "    }\n",
              "\n",
              "    .colab-df-buttons div {\n",
              "      margin-bottom: 4px;\n",
              "    }\n",
              "\n",
              "    [theme=dark] .colab-df-convert {\n",
              "      background-color: #3B4455;\n",
              "      fill: #D2E3FC;\n",
              "    }\n",
              "\n",
              "    [theme=dark] .colab-df-convert:hover {\n",
              "      background-color: #434B5C;\n",
              "      box-shadow: 0px 1px 3px 1px rgba(0, 0, 0, 0.15);\n",
              "      filter: drop-shadow(0px 1px 2px rgba(0, 0, 0, 0.3));\n",
              "      fill: #FFFFFF;\n",
              "    }\n",
              "  </style>\n",
              "\n",
              "    <script>\n",
              "      const buttonEl =\n",
              "        document.querySelector('#df-2a4b236c-8d0c-4187-8218-8959a96c77b7 button.colab-df-convert');\n",
              "      buttonEl.style.display =\n",
              "        google.colab.kernel.accessAllowed ? 'block' : 'none';\n",
              "\n",
              "      async function convertToInteractive(key) {\n",
              "        const element = document.querySelector('#df-2a4b236c-8d0c-4187-8218-8959a96c77b7');\n",
              "        const dataTable =\n",
              "          await google.colab.kernel.invokeFunction('convertToInteractive',\n",
              "                                                    [key], {});\n",
              "        if (!dataTable) return;\n",
              "\n",
              "        const docLinkHtml = 'Like what you see? Visit the ' +\n",
              "          '<a target=\"_blank\" href=https://colab.research.google.com/notebooks/data_table.ipynb>data table notebook</a>'\n",
              "          + ' to learn more about interactive tables.';\n",
              "        element.innerHTML = '';\n",
              "        dataTable['output_type'] = 'display_data';\n",
              "        await google.colab.output.renderOutput(dataTable, element);\n",
              "        const docLink = document.createElement('div');\n",
              "        docLink.innerHTML = docLinkHtml;\n",
              "        element.appendChild(docLink);\n",
              "      }\n",
              "    </script>\n",
              "  </div>\n",
              "\n",
              "\n",
              "<div id=\"df-5ec4a623-d2e0-41a1-9a88-81d62af7f42d\">\n",
              "  <button class=\"colab-df-quickchart\" onclick=\"quickchart('df-5ec4a623-d2e0-41a1-9a88-81d62af7f42d')\"\n",
              "            title=\"Suggest charts\"\n",
              "            style=\"display:none;\">\n",
              "\n",
              "<svg xmlns=\"http://www.w3.org/2000/svg\" height=\"24px\"viewBox=\"0 0 24 24\"\n",
              "     width=\"24px\">\n",
              "    <g>\n",
              "        <path d=\"M19 3H5c-1.1 0-2 .9-2 2v14c0 1.1.9 2 2 2h14c1.1 0 2-.9 2-2V5c0-1.1-.9-2-2-2zM9 17H7v-7h2v7zm4 0h-2V7h2v10zm4 0h-2v-4h2v4z\"/>\n",
              "    </g>\n",
              "</svg>\n",
              "  </button>\n",
              "\n",
              "<style>\n",
              "  .colab-df-quickchart {\n",
              "      --bg-color: #E8F0FE;\n",
              "      --fill-color: #1967D2;\n",
              "      --hover-bg-color: #E2EBFA;\n",
              "      --hover-fill-color: #174EA6;\n",
              "      --disabled-fill-color: #AAA;\n",
              "      --disabled-bg-color: #DDD;\n",
              "  }\n",
              "\n",
              "  [theme=dark] .colab-df-quickchart {\n",
              "      --bg-color: #3B4455;\n",
              "      --fill-color: #D2E3FC;\n",
              "      --hover-bg-color: #434B5C;\n",
              "      --hover-fill-color: #FFFFFF;\n",
              "      --disabled-bg-color: #3B4455;\n",
              "      --disabled-fill-color: #666;\n",
              "  }\n",
              "\n",
              "  .colab-df-quickchart {\n",
              "    background-color: var(--bg-color);\n",
              "    border: none;\n",
              "    border-radius: 50%;\n",
              "    cursor: pointer;\n",
              "    display: none;\n",
              "    fill: var(--fill-color);\n",
              "    height: 32px;\n",
              "    padding: 0;\n",
              "    width: 32px;\n",
              "  }\n",
              "\n",
              "  .colab-df-quickchart:hover {\n",
              "    background-color: var(--hover-bg-color);\n",
              "    box-shadow: 0 1px 2px rgba(60, 64, 67, 0.3), 0 1px 3px 1px rgba(60, 64, 67, 0.15);\n",
              "    fill: var(--button-hover-fill-color);\n",
              "  }\n",
              "\n",
              "  .colab-df-quickchart-complete:disabled,\n",
              "  .colab-df-quickchart-complete:disabled:hover {\n",
              "    background-color: var(--disabled-bg-color);\n",
              "    fill: var(--disabled-fill-color);\n",
              "    box-shadow: none;\n",
              "  }\n",
              "\n",
              "  .colab-df-spinner {\n",
              "    border: 2px solid var(--fill-color);\n",
              "    border-color: transparent;\n",
              "    border-bottom-color: var(--fill-color);\n",
              "    animation:\n",
              "      spin 1s steps(1) infinite;\n",
              "  }\n",
              "\n",
              "  @keyframes spin {\n",
              "    0% {\n",
              "      border-color: transparent;\n",
              "      border-bottom-color: var(--fill-color);\n",
              "      border-left-color: var(--fill-color);\n",
              "    }\n",
              "    20% {\n",
              "      border-color: transparent;\n",
              "      border-left-color: var(--fill-color);\n",
              "      border-top-color: var(--fill-color);\n",
              "    }\n",
              "    30% {\n",
              "      border-color: transparent;\n",
              "      border-left-color: var(--fill-color);\n",
              "      border-top-color: var(--fill-color);\n",
              "      border-right-color: var(--fill-color);\n",
              "    }\n",
              "    40% {\n",
              "      border-color: transparent;\n",
              "      border-right-color: var(--fill-color);\n",
              "      border-top-color: var(--fill-color);\n",
              "    }\n",
              "    60% {\n",
              "      border-color: transparent;\n",
              "      border-right-color: var(--fill-color);\n",
              "    }\n",
              "    80% {\n",
              "      border-color: transparent;\n",
              "      border-right-color: var(--fill-color);\n",
              "      border-bottom-color: var(--fill-color);\n",
              "    }\n",
              "    90% {\n",
              "      border-color: transparent;\n",
              "      border-bottom-color: var(--fill-color);\n",
              "    }\n",
              "  }\n",
              "</style>\n",
              "\n",
              "  <script>\n",
              "    async function quickchart(key) {\n",
              "      const quickchartButtonEl =\n",
              "        document.querySelector('#' + key + ' button');\n",
              "      quickchartButtonEl.disabled = true;  // To prevent multiple clicks.\n",
              "      quickchartButtonEl.classList.add('colab-df-spinner');\n",
              "      try {\n",
              "        const charts = await google.colab.kernel.invokeFunction(\n",
              "            'suggestCharts', [key], {});\n",
              "      } catch (error) {\n",
              "        console.error('Error during call to suggestCharts:', error);\n",
              "      }\n",
              "      quickchartButtonEl.classList.remove('colab-df-spinner');\n",
              "      quickchartButtonEl.classList.add('colab-df-quickchart-complete');\n",
              "    }\n",
              "    (() => {\n",
              "      let quickchartButtonEl =\n",
              "        document.querySelector('#df-5ec4a623-d2e0-41a1-9a88-81d62af7f42d button');\n",
              "      quickchartButtonEl.style.display =\n",
              "        google.colab.kernel.accessAllowed ? 'block' : 'none';\n",
              "    })();\n",
              "  </script>\n",
              "</div>\n",
              "\n",
              "    </div>\n",
              "  </div>\n"
            ]
          },
          "metadata": {},
          "execution_count": 8
        }
      ]
    },
    {
      "cell_type": "code",
      "source": [
        "import pandas as pd\n",
        "from sklearn.model_selection import train_test_split\n",
        "\n",
        "X = df['ingredients']\n",
        "y = df.drop('ingredients', axis=1).values\n",
        "\n",
        "X_train, X_test, y_train, y_test = train_test_split(X, y, test_size=0.2, random_state=42)\n",
        "\n",
        "len(X_train),len(y_train),len(X_test),len(y_test)"
      ],
      "metadata": {
        "colab": {
          "base_uri": "https://localhost:8080/"
        },
        "id": "AH_aBj3_Nv8Q",
        "outputId": "b782284c-c8e2-4195-e066-08c3ffa7f5da"
      },
      "execution_count": 9,
      "outputs": [
        {
          "output_type": "execute_result",
          "data": {
            "text/plain": [
              "(7968, 7968, 1992, 1992)"
            ]
          },
          "metadata": {},
          "execution_count": 9
        }
      ]
    },
    {
      "cell_type": "code",
      "source": [
        "import tensorflow as tf"
      ],
      "metadata": {
        "id": "yQTI8hToNmh4"
      },
      "execution_count": 10,
      "outputs": []
    },
    {
      "cell_type": "code",
      "source": [
        "from tensorflow.keras.layers.experimental.preprocessing import TextVectorization"
      ],
      "metadata": {
        "id": "wsSBXZmGOt1h"
      },
      "execution_count": 11,
      "outputs": []
    },
    {
      "cell_type": "code",
      "source": [
        "max_vocab_length = 10000\n",
        "max_length = 30\n",
        "text_vectorizer = TextVectorization(max_tokens = max_vocab_length,\n",
        "                                    output_mode = \"int\",\n",
        "                                    output_sequence_length = max_length)"
      ],
      "metadata": {
        "id": "oN16Sr64PBOX"
      },
      "execution_count": 12,
      "outputs": []
    },
    {
      "cell_type": "code",
      "source": [
        "text_vectorizer.adapt(X_train)"
      ],
      "metadata": {
        "id": "y4neWPm7PEN8"
      },
      "execution_count": 13,
      "outputs": []
    },
    {
      "cell_type": "code",
      "source": [
        "sample_sentence = \"coco pasta beef shrimp chicken masala\"\n",
        "text_vectorizer([sample_sentence])"
      ],
      "metadata": {
        "colab": {
          "base_uri": "https://localhost:8080/"
        },
        "id": "Vv6l3DM1Rh7s",
        "outputId": "501a261a-7df0-40a0-c7a2-784774bdd52e"
      },
      "execution_count": 14,
      "outputs": [
        {
          "output_type": "execute_result",
          "data": {
            "text/plain": [
              "<tf.Tensor: shape=(1, 30), dtype=int64, numpy=\n",
              "array([[4737,  365,  134,  280,   70,  648,    0,    0,    0,    0,    0,\n",
              "           0,    0,    0,    0,    0,    0,    0,    0,    0,    0,    0,\n",
              "           0,    0,    0,    0,    0,    0,    0,    0]])>"
            ]
          },
          "metadata": {},
          "execution_count": 14
        }
      ]
    },
    {
      "cell_type": "code",
      "source": [
        "import random\n",
        "random_sentence = random.choice(X_train)\n",
        "random_sentence, text_vectorizer([random_sentence])"
      ],
      "metadata": {
        "colab": {
          "base_uri": "https://localhost:8080/"
        },
        "id": "1Zar_wiSSG-T",
        "outputId": "2b62a607-556c-460c-8661-da6f5d76b324"
      },
      "execution_count": 15,
      "outputs": [
        {
          "output_type": "execute_result",
          "data": {
            "text/plain": [
              "('olive oil, diced tomatoes, Johnsonville Andouille Dinner Sausage, parsley, shrimp, jambalaya rice mix, worcestershire sauce, hot pepper sauce, creole seasoning',\n",
              " <tf.Tensor: shape=(1, 30), dtype=int64, numpy=\n",
              " array([[  91,    3,  260,   98, 2623,  996, 1903,  439,  160,  280, 4093,\n",
              "           49,  342,  475,   71,  414,   25,   71, 1059,  191,    0,    0,\n",
              "            0,    0,    0,    0,    0,    0,    0,    0]])>)"
            ]
          },
          "metadata": {},
          "execution_count": 15
        }
      ]
    },
    {
      "cell_type": "code",
      "source": [
        "words_in_vocab = text_vectorizer.get_vocabulary()\n",
        "words_in_vocab[:5], words_in_vocab[-5:],len(words_in_vocab)"
      ],
      "metadata": {
        "colab": {
          "base_uri": "https://localhost:8080/"
        },
        "id": "qdP3UW11SUM1",
        "outputId": "b873fe92-e56b-44f1-9438-ec95eb797047"
      },
      "execution_count": 16,
      "outputs": [
        {
          "output_type": "execute_result",
          "data": {
            "text/plain": [
              "(['', '[UNK]', 'salt', 'oil', 'sugar'],\n",
              " ['005', '0023101', '001', '0003', '00'],\n",
              " 5262)"
            ]
          },
          "metadata": {},
          "execution_count": 16
        }
      ]
    },
    {
      "cell_type": "code",
      "source": [
        "from tensorflow.keras import layers\n",
        "embedding = layers.Embedding(input_dim = max_vocab_length,\n",
        "                             output_dim = 128,\n",
        "                             input_length = max_length)\n",
        "embedding\n"
      ],
      "metadata": {
        "colab": {
          "base_uri": "https://localhost:8080/"
        },
        "id": "caV6RMUOS0qX",
        "outputId": "88322089-a418-4339-984f-e50a60face64"
      },
      "execution_count": 17,
      "outputs": [
        {
          "output_type": "execute_result",
          "data": {
            "text/plain": [
              "<keras.src.layers.core.embedding.Embedding at 0x7b61637531c0>"
            ]
          },
          "metadata": {},
          "execution_count": 17
        }
      ]
    },
    {
      "cell_type": "code",
      "source": [
        "random_sentence = random.choice(X_train)\n",
        "random_sentence, embedding(text_vectorizer([random_sentence]))"
      ],
      "metadata": {
        "colab": {
          "base_uri": "https://localhost:8080/"
        },
        "id": "1pX6NKxlWbEQ",
        "outputId": "bedd4a91-3b12-411e-dc49-5a7624d9c334"
      },
      "execution_count": 18,
      "outputs": [
        {
          "output_type": "execute_result",
          "data": {
            "text/plain": [
              "('BUTTER (PASTEURIZED CREAM, LACTIC ACID), ROASTED GARLIC (GARLIC, CITRIC ACID), PARSLEY, BASIL, OREGANO, CHIVES, ONION SALT, GARLIC SALT, BLACK PEPPER.',\n",
              " <tf.Tensor: shape=(1, 30, 128), dtype=float32, numpy=\n",
              " array([[[-0.02230557,  0.01633755, -0.00148935, ..., -0.0055095 ,\n",
              "          -0.03713187, -0.0482558 ],\n",
              "         [ 0.02557457, -0.02908877, -0.01388645, ..., -0.00311866,\n",
              "          -0.04256834,  0.00404413],\n",
              "         [-0.01693369,  0.04048928, -0.03408571, ...,  0.00285285,\n",
              "          -0.0241979 ,  0.03187111],\n",
              "         ...,\n",
              "         [ 0.04848761,  0.01706329, -0.03425287, ..., -0.00995121,\n",
              "          -0.01149229, -0.01545291],\n",
              "         [ 0.04848761,  0.01706329, -0.03425287, ..., -0.00995121,\n",
              "          -0.01149229, -0.01545291],\n",
              "         [ 0.04848761,  0.01706329, -0.03425287, ..., -0.00995121,\n",
              "          -0.01149229, -0.01545291]]], dtype=float32)>)"
            ]
          },
          "metadata": {},
          "execution_count": 18
        }
      ]
    },
    {
      "cell_type": "code",
      "source": [
        "sample_embed = embedding(text_vectorizer([random_sentence]))\n",
        "sample_embed[0][0],sample_embed.shape"
      ],
      "metadata": {
        "colab": {
          "base_uri": "https://localhost:8080/"
        },
        "id": "A7BpRzb5WiuY",
        "outputId": "b90f2576-04de-4670-e045-5813027925da"
      },
      "execution_count": 19,
      "outputs": [
        {
          "output_type": "execute_result",
          "data": {
            "text/plain": [
              "(<tf.Tensor: shape=(128,), dtype=float32, numpy=\n",
              " array([-2.2305572e-02,  1.6337547e-02, -1.4893524e-03,  3.9337277e-03,\n",
              "         2.6010070e-02, -1.4815021e-02,  2.2431765e-02, -1.4914263e-02,\n",
              "         4.5654662e-03,  2.0923723e-02,  4.5494530e-02, -4.2857289e-02,\n",
              "         8.3270296e-03,  7.8571066e-03, -2.4847949e-02, -2.4407256e-02,\n",
              "        -1.2490489e-02, -2.1495426e-02, -2.1750022e-02, -1.0807384e-02,\n",
              "         3.0414071e-02, -8.1254467e-03, -1.0731332e-03,  1.4218990e-02,\n",
              "         2.4381135e-02, -3.4391236e-02, -3.3530701e-02,  3.7677411e-02,\n",
              "        -2.4427593e-02, -3.0400073e-02, -2.7345646e-02, -2.6035178e-02,\n",
              "        -3.7443161e-02,  1.6782533e-02,  9.3329549e-03,  4.4536602e-02,\n",
              "         4.0596057e-02, -8.5310824e-03,  1.6293291e-02, -1.0168064e-02,\n",
              "        -2.4352003e-02,  6.4332262e-03, -4.4296123e-02, -2.7439106e-02,\n",
              "        -1.2246169e-02, -1.2493968e-02, -3.4959801e-03,  1.7046083e-02,\n",
              "        -2.6629210e-02,  3.8879406e-02,  2.0991888e-02, -2.1507628e-03,\n",
              "        -5.4928660e-03, -3.1244993e-02, -4.6194375e-02, -1.8862223e-02,\n",
              "        -5.3151958e-03,  2.1607231e-02,  2.9057529e-02,  3.1555165e-02,\n",
              "        -3.8741410e-02,  2.1759395e-02,  1.3909649e-02, -1.6210139e-02,\n",
              "        -1.8633090e-02,  7.1552023e-03, -3.0830396e-02,  1.0610931e-03,\n",
              "         1.2797151e-02, -6.9910400e-03,  2.9135495e-05,  1.6954031e-02,\n",
              "        -2.9556250e-02, -1.2450039e-02,  5.7303905e-04,  2.2304166e-02,\n",
              "         2.8474364e-02, -3.6522970e-03,  4.1564215e-02,  1.1001956e-02,\n",
              "        -3.3799350e-02,  4.5270409e-02,  2.3800135e-03,  1.1497378e-02,\n",
              "         1.2421809e-02, -3.7244476e-02,  4.2837929e-02, -4.7869947e-02,\n",
              "         1.9157529e-03, -1.3686791e-03, -1.2762941e-02, -4.4563580e-02,\n",
              "        -2.1261347e-02,  1.3362359e-02,  2.5663126e-02, -3.6954366e-02,\n",
              "         3.9923873e-02,  2.4383258e-02, -4.7803737e-02,  3.2822143e-02,\n",
              "        -9.1433637e-03,  2.1272030e-02, -4.5705941e-02,  4.1797642e-02,\n",
              "         4.4074368e-02,  1.5932593e-02, -3.8751662e-02, -2.1251036e-02,\n",
              "         7.8374632e-03, -4.8880447e-02,  5.8318600e-03,  4.2507019e-02,\n",
              "         2.4547670e-02,  1.2446046e-02, -6.3914061e-03, -2.2530591e-02,\n",
              "         3.4337316e-02,  3.0076157e-02, -3.4632064e-02,  7.2861798e-03,\n",
              "         1.8369779e-03, -5.2438602e-03,  9.5329434e-04, -1.0907292e-02,\n",
              "        -1.0553159e-02, -5.5094957e-03, -3.7131868e-02, -4.8255801e-02],\n",
              "       dtype=float32)>,\n",
              " TensorShape([1, 30, 128]))"
            ]
          },
          "metadata": {},
          "execution_count": 19
        }
      ]
    },
    {
      "cell_type": "code",
      "source": [
        "from tensorflow.keras import layers\n",
        "inputs = layers.Input(shape=(1,), dtype=tf.string)\n",
        "print(inputs.shape)\n",
        "x = text_vectorizer(inputs)\n",
        "print(x.shape)\n",
        "x = embedding(x)\n",
        "print(x)\n",
        "# x = layers.BatchNormalization()(x)\n",
        "x = layers.GlobalAveragePooling1D()(x)\n",
        "combined_dropout = layers.Dropout(0.5)(x)\n",
        "combined_dense = layers.Dense(128, activation=\"relu\")(combined_dropout)\n",
        "# x = layers.BatchNormalization()(combined_dense)\n",
        "final_dropout = layers.Dropout(0.5)(x)\n",
        "outputs = layers.Dense(3, activation=\"softmax\")(final_dropout)\n",
        "Model_1 = tf.keras.Model(inputs, outputs)\n"
      ],
      "metadata": {
        "colab": {
          "base_uri": "https://localhost:8080/"
        },
        "id": "PSFAh8vQS6T5",
        "outputId": "02f63a18-9672-4cd6-ea2d-0851e070bc96"
      },
      "execution_count": 20,
      "outputs": [
        {
          "output_type": "stream",
          "name": "stdout",
          "text": [
            "(None, 1)\n",
            "(None, 30)\n",
            "KerasTensor(type_spec=TensorSpec(shape=(None, 30, 128), dtype=tf.float32, name=None), name='embedding/embedding_lookup/Identity:0', description=\"created by layer 'embedding'\")\n"
          ]
        }
      ]
    },
    {
      "cell_type": "code",
      "source": [
        "# Replace all occurrences of a specific value in the DataFrame\n",
        "\n"
      ],
      "metadata": {
        "id": "OBq5WuYhZkdU"
      },
      "execution_count": 21,
      "outputs": []
    },
    {
      "cell_type": "code",
      "source": [
        "y_train[:3]"
      ],
      "metadata": {
        "colab": {
          "base_uri": "https://localhost:8080/"
        },
        "id": "qr6CbaRxa3Fp",
        "outputId": "baadeade-7333-406c-c285-b2e168b1f8f1"
      },
      "execution_count": 22,
      "outputs": [
        {
          "output_type": "execute_result",
          "data": {
            "text/plain": [
              "array([[1, 0, 0],\n",
              "       [0, 1, 0],\n",
              "       [1, 0, 0]], dtype=uint8)"
            ]
          },
          "metadata": {},
          "execution_count": 22
        }
      ]
    },
    {
      "cell_type": "code",
      "source": [
        "checkpoint_callback = tf.keras.callbacks.ModelCheckpoint(\n",
        "    '/content/drive/MyDrive/ColabNotebooks/Models/Veg_Nonveg_Classification.h5',  # Specify the full file path\n",
        "    monitor='val_accuracy',\n",
        "    save_best_only=True,\n",
        "    mode='max'\n",
        ")"
      ],
      "metadata": {
        "id": "l6u_fVTICNPX"
      },
      "execution_count": 23,
      "outputs": []
    },
    {
      "cell_type": "code",
      "source": [
        "X_train.shape, y_train.shape"
      ],
      "metadata": {
        "colab": {
          "base_uri": "https://localhost:8080/"
        },
        "id": "wnfh-0CjlcXv",
        "outputId": "753b93cc-31a9-48a2-b386-1583c4a95ee9"
      },
      "execution_count": 24,
      "outputs": [
        {
          "output_type": "execute_result",
          "data": {
            "text/plain": [
              "((7968,), (7968, 3))"
            ]
          },
          "metadata": {},
          "execution_count": 24
        }
      ]
    },
    {
      "cell_type": "code",
      "source": [
        "import numpy as np\n",
        "Model_1.compile(loss = \"categorical_crossentropy\",\n",
        "                optimizer = tf.keras.optimizers.Adam(),\n",
        "                metrics = [\"accuracy\"])\n",
        "# train_lables = tf.reshape(train_labels, (-1, 15, 1))\n",
        "print(X_train.shape,y_train.shape)\n",
        "history = Model_1.fit(X_train, y_train, validation_data = (X_test,y_test),epochs = 10)\n",
        "\n",
        "# val_sentences.shape,val_labels.shape"
      ],
      "metadata": {
        "colab": {
          "base_uri": "https://localhost:8080/"
        },
        "id": "wG7ejjr_TFGD",
        "outputId": "3f816594-79de-4dc5-ed59-e3991af1d2fa"
      },
      "execution_count": 25,
      "outputs": [
        {
          "output_type": "stream",
          "name": "stdout",
          "text": [
            "(7968,) (7968, 3)\n",
            "Epoch 1/10\n",
            "249/249 [==============================] - 8s 30ms/step - loss: 0.7539 - accuracy: 0.7073 - val_loss: 0.5940 - val_accuracy: 0.7716\n",
            "Epoch 2/10\n",
            "249/249 [==============================] - 5s 21ms/step - loss: 0.5268 - accuracy: 0.7968 - val_loss: 0.4832 - val_accuracy: 0.8082\n",
            "Epoch 3/10\n",
            "249/249 [==============================] - 6s 23ms/step - loss: 0.4327 - accuracy: 0.8345 - val_loss: 0.4230 - val_accuracy: 0.8399\n",
            "Epoch 4/10\n",
            "249/249 [==============================] - 7s 29ms/step - loss: 0.3742 - accuracy: 0.8606 - val_loss: 0.3877 - val_accuracy: 0.8514\n",
            "Epoch 5/10\n",
            "249/249 [==============================] - 5s 22ms/step - loss: 0.3285 - accuracy: 0.8811 - val_loss: 0.3654 - val_accuracy: 0.8624\n",
            "Epoch 6/10\n",
            "249/249 [==============================] - 6s 25ms/step - loss: 0.2965 - accuracy: 0.8958 - val_loss: 0.3517 - val_accuracy: 0.8745\n",
            "Epoch 7/10\n",
            "249/249 [==============================] - 6s 25ms/step - loss: 0.2730 - accuracy: 0.9071 - val_loss: 0.3442 - val_accuracy: 0.8830\n",
            "Epoch 8/10\n",
            "249/249 [==============================] - 5s 22ms/step - loss: 0.2526 - accuracy: 0.9159 - val_loss: 0.3387 - val_accuracy: 0.8840\n",
            "Epoch 9/10\n",
            "249/249 [==============================] - 6s 25ms/step - loss: 0.2368 - accuracy: 0.9226 - val_loss: 0.3381 - val_accuracy: 0.8850\n",
            "Epoch 10/10\n",
            "249/249 [==============================] - 6s 24ms/step - loss: 0.2254 - accuracy: 0.9263 - val_loss: 0.3337 - val_accuracy: 0.8865\n"
          ]
        }
      ]
    },
    {
      "cell_type": "code",
      "source": [
        "import tensorflow as tf\n",
        "from tensorflow.keras.models import load_model\n",
        "\n",
        "# Assuming your model is already defined and compiled\n",
        "\n",
        "# Save the model with the 'tf' save format\n",
        "Model_1.save('/content/drive/MyDrive/ColabNotebooks/Models/Veg_Nonveg_Classification', save_format='tf')\n",
        "\n",
        "# Load the model\n",
        "loaded_model = load_model('/content/drive/MyDrive/ColabNotebooks/Models/Veg_Nonveg_Classification')\n"
      ],
      "metadata": {
        "id": "eDUWbcqcDfYX"
      },
      "execution_count": 26,
      "outputs": []
    },
    {
      "cell_type": "code",
      "source": [
        "!pip install pytesseract"
      ],
      "metadata": {
        "colab": {
          "base_uri": "https://localhost:8080/"
        },
        "id": "qJ1iAAXrCZd5",
        "outputId": "c678f16b-cb4e-4ae6-8a04-33352c3ec10b"
      },
      "execution_count": 27,
      "outputs": [
        {
          "output_type": "stream",
          "name": "stdout",
          "text": [
            "Collecting pytesseract\n",
            "  Downloading pytesseract-0.3.10-py3-none-any.whl (14 kB)\n",
            "Requirement already satisfied: packaging>=21.3 in /usr/local/lib/python3.10/dist-packages (from pytesseract) (23.2)\n",
            "Requirement already satisfied: Pillow>=8.0.0 in /usr/local/lib/python3.10/dist-packages (from pytesseract) (9.4.0)\n",
            "Installing collected packages: pytesseract\n",
            "Successfully installed pytesseract-0.3.10\n"
          ]
        }
      ]
    },
    {
      "cell_type": "code",
      "source": [
        "!apt-get install tesseract-ocr"
      ],
      "metadata": {
        "colab": {
          "base_uri": "https://localhost:8080/"
        },
        "id": "L68h9QfpCgrX",
        "outputId": "673f45e5-e418-4f5b-ae42-758ba8eb5582"
      },
      "execution_count": 28,
      "outputs": [
        {
          "output_type": "stream",
          "name": "stdout",
          "text": [
            "Reading package lists... Done\n",
            "Building dependency tree... Done\n",
            "Reading state information... Done\n",
            "The following additional packages will be installed:\n",
            "  tesseract-ocr-eng tesseract-ocr-osd\n",
            "The following NEW packages will be installed:\n",
            "  tesseract-ocr tesseract-ocr-eng tesseract-ocr-osd\n",
            "0 upgraded, 3 newly installed, 0 to remove and 23 not upgraded.\n",
            "Need to get 4,816 kB of archives.\n",
            "After this operation, 15.6 MB of additional disk space will be used.\n",
            "Get:1 http://archive.ubuntu.com/ubuntu jammy/universe amd64 tesseract-ocr-eng all 1:4.00~git30-7274cfa-1.1 [1,591 kB]\n",
            "Get:2 http://archive.ubuntu.com/ubuntu jammy/universe amd64 tesseract-ocr-osd all 1:4.00~git30-7274cfa-1.1 [2,990 kB]\n",
            "Get:3 http://archive.ubuntu.com/ubuntu jammy/universe amd64 tesseract-ocr amd64 4.1.1-2.1build1 [236 kB]\n",
            "Fetched 4,816 kB in 1s (4,959 kB/s)\n",
            "Selecting previously unselected package tesseract-ocr-eng.\n",
            "(Reading database ... 120903 files and directories currently installed.)\n",
            "Preparing to unpack .../tesseract-ocr-eng_1%3a4.00~git30-7274cfa-1.1_all.deb ...\n",
            "Unpacking tesseract-ocr-eng (1:4.00~git30-7274cfa-1.1) ...\n",
            "Selecting previously unselected package tesseract-ocr-osd.\n",
            "Preparing to unpack .../tesseract-ocr-osd_1%3a4.00~git30-7274cfa-1.1_all.deb ...\n",
            "Unpacking tesseract-ocr-osd (1:4.00~git30-7274cfa-1.1) ...\n",
            "Selecting previously unselected package tesseract-ocr.\n",
            "Preparing to unpack .../tesseract-ocr_4.1.1-2.1build1_amd64.deb ...\n",
            "Unpacking tesseract-ocr (4.1.1-2.1build1) ...\n",
            "Setting up tesseract-ocr-eng (1:4.00~git30-7274cfa-1.1) ...\n",
            "Setting up tesseract-ocr-osd (1:4.00~git30-7274cfa-1.1) ...\n",
            "Setting up tesseract-ocr (4.1.1-2.1build1) ...\n",
            "Processing triggers for man-db (2.10.2-1) ...\n"
          ]
        }
      ]
    },
    {
      "cell_type": "code",
      "source": [
        "!pip install Pillow"
      ],
      "metadata": {
        "colab": {
          "base_uri": "https://localhost:8080/"
        },
        "id": "KHSeDIbxCjwP",
        "outputId": "cf247800-d5f3-48f9-be9b-ee6e901ccc18"
      },
      "execution_count": 29,
      "outputs": [
        {
          "output_type": "stream",
          "name": "stdout",
          "text": [
            "Requirement already satisfied: Pillow in /usr/local/lib/python3.10/dist-packages (9.4.0)\n"
          ]
        }
      ]
    },
    {
      "cell_type": "code",
      "source": [
        "import pytesseract\n",
        "from PIL import Image\n",
        "image = Image.open('/content/ingredients_test_1.jpeg')  # Replace 'your_image.png' with the actual image file path\n",
        "\n",
        "# Perform OCR on the image\n",
        "text = pytesseract.image_to_string(image, lang='eng')  # 'eng' specifies the English language\n",
        "\n",
        "# Print or process the extracted text\n",
        "print(text)\n",
        "preds = Model_1.predict([text])"
      ],
      "metadata": {
        "colab": {
          "base_uri": "https://localhost:8080/"
        },
        "id": "VPiQR5mZCqUS",
        "outputId": "088081b9-1b39-4d45-e701-4e4e2c0ecac6"
      },
      "execution_count": 42,
      "outputs": [
        {
          "output_type": "stream",
          "name": "stdout",
          "text": [
            "INGREDIENTS:\n",
            "\n",
            "CHICKEN, SUFFICIENT WATER FOR PROCESSING, MEAT\n",
            "AV-PRODUCTS, ANIMAL LIVER, BREWERS RICE, BEEF. WHEAT\n",
            "FLOUR, MINERALS (POTASSIUM CHLORIDE, MAGNESIUM\n",
            "PROTEINATE, ZINC SULFATE, SELENIUM, COPPER PROTEINATE,\n",
            "MANGANESE SULFATE, COPPER SULFATE, POTASSIUM IODIDE),\n",
            "ADDED COLOR, CARRAGEENAN, SODIUM  TRIPOLYPHOSPHATE,\n",
            "DRIED YAM, NATURAL SMOKE FLAVOR, XANTHAN GUM, VITAMINS\n",
            "CHOLINE CHLORIDE, VITAMIN E SUPPLEMENT, | THIAMINE\n",
            "ONONITRATE, CALCIUM PANTOTHENATE, BIOTIN, RIBOFLAVIN\n",
            "SUPPLEMENT, VITAMIN A SUPPLEMENT, VITAMIN 03 SUPPLEMENT,\n",
            "\\TAMIN B12 SUPPLEMENT), GUAR GUM, RED #3.\n",
            "\f\n",
            "1/1 [==============================] - 0s 63ms/step\n"
          ]
        }
      ]
    },
    {
      "cell_type": "code",
      "source": [
        "preds"
      ],
      "metadata": {
        "id": "uXX7u4OeDW09",
        "colab": {
          "base_uri": "https://localhost:8080/"
        },
        "outputId": "b1a8bd72-c1e5-4688-bb70-043d93e458cb"
      },
      "execution_count": 31,
      "outputs": [
        {
          "output_type": "execute_result",
          "data": {
            "text/plain": [
              "array([[0.00397255, 0.00192272, 0.9941048 ]], dtype=float32)"
            ]
          },
          "metadata": {},
          "execution_count": 31
        }
      ]
    },
    {
      "cell_type": "code",
      "source": [
        "results = Model_1.evaluate(X_test,y_test)"
      ],
      "metadata": {
        "id": "KcTJeXZtoriS",
        "colab": {
          "base_uri": "https://localhost:8080/"
        },
        "outputId": "ec6a068a-3f1d-4ec0-8bfb-f1bae29bca27"
      },
      "execution_count": 32,
      "outputs": [
        {
          "output_type": "stream",
          "name": "stdout",
          "text": [
            "63/63 [==============================] - 0s 3ms/step - loss: 0.3337 - accuracy: 0.8865\n"
          ]
        }
      ]
    },
    {
      "cell_type": "code",
      "source": [
        "Model1_preds = Model_1.predict([X_test])\n",
        "Model1_preds = tf.squeeze(tf.round(Model1_preds))\n",
        "Model1_preds[:10]"
      ],
      "metadata": {
        "id": "rqRmcVt7pCMq",
        "colab": {
          "base_uri": "https://localhost:8080/"
        },
        "outputId": "9b09965e-3b92-4083-ca11-43ed278d354f"
      },
      "execution_count": 33,
      "outputs": [
        {
          "output_type": "stream",
          "name": "stdout",
          "text": [
            "63/63 [==============================] - 0s 3ms/step\n"
          ]
        },
        {
          "output_type": "execute_result",
          "data": {
            "text/plain": [
              "<tf.Tensor: shape=(10, 3), dtype=float32, numpy=\n",
              "array([[0., 1., 0.],\n",
              "       [1., 0., 0.],\n",
              "       [0., 0., 1.],\n",
              "       [0., 0., 1.],\n",
              "       [1., 0., 0.],\n",
              "       [1., 0., 0.],\n",
              "       [1., 0., 0.],\n",
              "       [1., 0., 0.],\n",
              "       [1., 0., 0.],\n",
              "       [1., 0., 0.]], dtype=float32)>"
            ]
          },
          "metadata": {},
          "execution_count": 33
        }
      ]
    },
    {
      "cell_type": "code",
      "source": [
        "from sklearn.metrics import accuracy_score, precision_recall_fscore_support\n",
        "def calc_results(y_true,y_preds):\n",
        "  model_accuracy = accuracy_score(y_true, y_preds) * 100\n",
        "  # Calculate model precision, recall and f1 score using \"weighted\" average\n",
        "  model_precision, model_recall, model_f1, _ = precision_recall_fscore_support(y_true, y_preds, average=\"weighted\")\n",
        "  model_results = {\"accuracy\": model_accuracy,\n",
        "                  \"precision\": model_precision,\n",
        "                  \"recall\": model_recall,\n",
        "                  \"f1\": model_f1}\n",
        "  return model_results\n"
      ],
      "metadata": {
        "id": "jEHt_qOBpZcy"
      },
      "execution_count": 34,
      "outputs": []
    },
    {
      "cell_type": "code",
      "source": [
        "Model_1_results = calc_results(y_true = y_test, y_preds = Model1_preds)\n",
        "Model_1_results"
      ],
      "metadata": {
        "id": "9jR1EVg2pG_0",
        "colab": {
          "base_uri": "https://localhost:8080/"
        },
        "outputId": "1feb3131-9ee1-46f6-f4c3-d93be90f8a7e"
      },
      "execution_count": 35,
      "outputs": [
        {
          "output_type": "execute_result",
          "data": {
            "text/plain": [
              "{'accuracy': 88.00200803212851,\n",
              " 'precision': 0.8910194190293431,\n",
              " 'recall': 0.8800200803212851,\n",
              " 'f1': 0.8833833303839032}"
            ]
          },
          "metadata": {},
          "execution_count": 35
        }
      ]
    },
    {
      "cell_type": "code",
      "source": [
        "from sklearn.metrics import confusion_matrix\n",
        "import matplotlib.pyplot as plt\n",
        "import seaborn as sns\n",
        "\n",
        "num_labels = y_test.shape[1]\n",
        "\n",
        "# Initialize the confusion matrix with zeros\n",
        "conf_matrix = np.zeros((num_labels, num_labels), dtype=int)\n",
        "\n",
        "# Calculate the confusion matrix\n",
        "for i in range(num_labels):\n",
        "    for j in range(num_labels):\n",
        "        conf_matrix[i, j] = np.sum((y_test[:, i] == 1) & (Model1_preds[:, j] == 1))\n",
        "\n",
        "# Print the confusion matrix\n",
        "print(\"Confusion Matrix:\")\n",
        "print(conf_matrix)\n"
      ],
      "metadata": {
        "id": "iRecmj-srlGJ",
        "colab": {
          "base_uri": "https://localhost:8080/"
        },
        "outputId": "59ee5c01-818a-48a3-e741-16d4200c5323"
      },
      "execution_count": 37,
      "outputs": [
        {
          "output_type": "stream",
          "name": "stdout",
          "text": [
            "Confusion Matrix:\n",
            "[[1296   26   32]\n",
            " [  54   88    6]\n",
            " [  82    8  369]]\n"
          ]
        }
      ]
    },
    {
      "cell_type": "code",
      "source": [
        "import tensorflow as tf\n",
        "import numpy as np\n",
        "import matplotlib.pyplot as plt\n",
        "from sklearn.metrics import confusion_matrix\n",
        "import matplotlib.pyplot as plt\n",
        "import numpy as np\n",
        "import itertools\n",
        "\n",
        "def make_multilabel_confusion_matrix(y_true, y_pred, classes=None, figsize=(20, 20), text_size=15):\n",
        "    \"\"\"\n",
        "    Makes a confusion matrix for multilabel classification comparing predictions and ground truth labels.\n",
        "\n",
        "    Args:\n",
        "        y_true: Array of true labels (must be the same shape as y_pred).\n",
        "        y_pred: Array of predicted labels (must be the same shape as y_true).\n",
        "        classes: Array of class labels (e.g., string form). If None, integer labels are used.\n",
        "        figsize: Size of the output figure (default=(10, 10)).\n",
        "        text_size: Size of the output figure text (default=15).\n",
        "\n",
        "    Returns:\n",
        "        A labeled confusion matrix plot comparing y_true and y_pred.\n",
        "\n",
        "    Example usage:\n",
        "        make_multilabel_confusion_matrix(y_true=test_labels,  # Ground truth test labels\n",
        "                                        y_pred=y_preds,  # Predicted labels\n",
        "                                        classes=class_names,  # Array of class label names\n",
        "                                        figsize=(15, 15),\n",
        "                                        text_size=10)\n",
        "    \"\"\"\n",
        "    n_classes = len(classes) if classes else y_true.shape[1]\n",
        "\n",
        "    # Create the confusion matrices for each label\n",
        "    confusion_matrices = []\n",
        "    for i in range(n_classes):\n",
        "        cm = confusion_matrix(y_true[:, i], y_pred[:, i])\n",
        "        confusion_matrices.append(cm)\n",
        "\n",
        "    # Plot the figure and make it pretty\n",
        "    fig, axes = plt.subplots(nrows=1, ncols=n_classes, figsize=figsize)\n",
        "    fig.subplots_adjust(wspace=0.5)\n",
        "\n",
        "    for i, ax in enumerate(axes):\n",
        "        cax = ax.matshow(confusion_matrices[i], cmap=plt.cm.Blues)\n",
        "        fig.colorbar(cax, ax=ax)\n",
        "\n",
        "        ax.set(title=f\"Conf.for Label {i}\",\n",
        "               xlabel=\"Predicted label\",\n",
        "               ylabel=\"True label\",\n",
        "               xticks=np.arange(2),  # Assuming binary classification for each label\n",
        "               yticks=np.arange(2),\n",
        "               xticklabels=[\"0\", \"1\"],  # Replace with class labels if necessary\n",
        "               yticklabels=[\"0\", \"1\"])\n",
        "\n",
        "        ax.xaxis.set_label_position(\"bottom\")\n",
        "        ax.xaxis.tick_bottom()\n",
        "\n",
        "        threshold = (confusion_matrices[i].max() + confusion_matrices[i].min()) / 2.\n",
        "\n",
        "        for j, k in itertools.product(range(confusion_matrices[i].shape[0]), range(confusion_matrices[i].shape[1])):\n",
        "            ax.text(k, j, f\"{confusion_matrices[i][j, k]}\",\n",
        "                    horizontalalignment=\"center\",\n",
        "                    color=\"white\" if confusion_matrices[i][j, k] > threshold else \"black\",\n",
        "                    size=text_size)\n",
        "\n",
        "    plt.show()\n",
        "\n",
        "# Example usage:\n",
        "# make_multilabel_confusion_matrix(y_true, y_pred, classes=[\"Label A\", \"Label B\", \"Label C\"])\n"
      ],
      "metadata": {
        "id": "1EgGDEXKyU4B"
      },
      "execution_count": 38,
      "outputs": []
    },
    {
      "cell_type": "code",
      "source": [
        "make_multilabel_confusion_matrix(y_test,Model1_preds,[\"Veg\",\"Egg\",\"Non-veg\"])"
      ],
      "metadata": {
        "id": "E-gs7ymzzjto",
        "colab": {
          "base_uri": "https://localhost:8080/",
          "height": 961
        },
        "outputId": "28662c51-0d52-4395-e9f9-cee7192065c7"
      },
      "execution_count": 39,
      "outputs": [
        {
          "output_type": "display_data",
          "data": {
            "text/plain": [
              "<Figure size 2000x2000 with 6 Axes>"
            ],
            "image/png": "[encoded data removed]"
          },
          "metadata": {}
        }
      ]
    },
    {
      "cell_type": "code",
      "source": [
        "import matplotlib.pyplot as plt\n",
        "\n",
        "# Assuming you have already trained your model with the `fit` method\n",
        "# history = model.fit(x_train, y_train, validation_data=(x_val, y_val), epochs=epochs)\n",
        "\n",
        "# Extract training and validation accuracies\n",
        "train_accuracies = history.history['accuracy']\n",
        "val_accuracies = history.history['val_accuracy']\n",
        "\n",
        "# Extract the number of epochs\n",
        "epochs = range(1, len(train_accuracies) + 1)\n",
        "\n",
        "# Plot training and validation accuracies\n",
        "plt.figure(figsize=(10, 6))\n",
        "plt.plot(epochs, train_accuracies, label='Training Accuracy', marker='o')\n",
        "plt.plot(epochs, val_accuracies, label='Validation Accuracy', marker='o')\n",
        "\n",
        "plt.title('Training and Validation Accuracies')\n",
        "plt.xlabel('Epochs')\n",
        "plt.ylabel('Accuracy')\n",
        "plt.legend()\n",
        "plt.grid(True)\n",
        "plt.tight_layout()\n",
        "\n",
        "plt.show()\n"
      ],
      "metadata": {
        "id": "9CWRxSRRz2Ni",
        "colab": {
          "base_uri": "https://localhost:8080/",
          "height": 607
        },
        "outputId": "f03728ad-055d-40d7-ac23-9ef990b24dd5"
      },
      "execution_count": 40,
      "outputs": [
        {
          "output_type": "display_data",
          "data": {
            "text/plain": [
              "<Figure size 1000x600 with 1 Axes>"
            ],
            "image/png": "[encoded data removed]"
          },
          "metadata": {}
        }
      ]
    },
    {
      "cell_type": "code",
      "source": [
        "import matplotlib.pyplot as plt\n",
        "\n",
        "# Assuming you have already trained your model with the `fit` method\n",
        "# history = model.fit(x_train, y_train, validation_data=(x_val, y_val), epochs=epochs)\n",
        "\n",
        "# Extract training and validation accuracies\n",
        "train_loss = history.history['loss']\n",
        "val_loss = history.history['val_loss']\n",
        "\n",
        "# Extract the number of epochs\n",
        "epochs = range(1, len(train_loss) + 1)\n",
        "\n",
        "# Plot training and validation accuracies\n",
        "plt.figure(figsize=(10, 6))\n",
        "plt.plot(epochs, train_loss, label='Training Loss', marker='o')\n",
        "plt.plot(epochs, val_loss, label='Validation Loss', marker='o')\n",
        "\n",
        "plt.title('Training and Validation Loss')\n",
        "plt.xlabel('Epochs')\n",
        "plt.ylabel('Loss')\n",
        "plt.legend()\n",
        "plt.grid(True)\n",
        "plt.tight_layout()\n",
        "\n",
        "plt.show()"
      ],
      "metadata": {
        "id": "ytWFBIEr3G9J",
        "colab": {
          "base_uri": "https://localhost:8080/",
          "height": 607
        },
        "outputId": "3dea54cd-043e-46d2-a756-51d63645f9d9"
      },
      "execution_count": 41,
      "outputs": [
        {
          "output_type": "display_data",
          "data": {
            "text/plain": [
              "<Figure size 1000x600 with 1 Axes>"
            ],
            "image/png": "[encoded data removed]"
          },
          "metadata": {}
        }
      ]
    },
    {
      "cell_type": "code",
      "source": [],
      "metadata": {
        "id": "S-CGCOPKB4Tl"
      },
      "execution_count": 41,
      "outputs": []
    }
  ]
}